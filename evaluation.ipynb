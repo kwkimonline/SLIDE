{
 "cells": [
  {
   "cell_type": "code",
   "execution_count": 6,
   "metadata": {},
   "outputs": [],
   "source": [
    "import numpy as np\n",
    "import pandas as pd\n",
    "import csv\n",
    "import torch\n",
    "import os\n",
    "from matplotlib import pyplot as plt"
   ]
  },
  {
   "cell_type": "code",
   "execution_count": 30,
   "metadata": {},
   "outputs": [],
   "source": [
    "dataset = \"adult\"\n",
    "result_dir = \"/home/kwkim/Research/FAI/slide_aaai/uif/results/results/\" \n",
    "result_dir += f\"{dataset}/perfs_lr0.05_epochs2000_optadam_archdnn.csv\"\n",
    "assert os.path.exists(result_dir)\n",
    "\n",
    "columns = [\"method\", \"lr\", \"epochs\", \"opt\", \"lmda\", \"gamma\", \"tau\", \"acc\", \"bacc\", \"con\", \"con10\", \"con50\"]\n",
    "result = pd.read_csv(result_dir, header = None, names = columns)"
   ]
  },
  {
   "cell_type": "code",
   "execution_count": 33,
   "metadata": {},
   "outputs": [
    {
     "data": {
      "image/png": "[encoded data removed]",
      "text/plain": [
       "<Figure size 720x576 with 1 Axes>"
      ]
     },
     "metadata": {
      "needs_background": "light"
     },
     "output_type": "display_data"
    }
   ],
   "source": [
    "plt.figure(figsize = (10, 8))\n",
    "plt.scatter(result[result[\"method\"] == \"hinge\"][\"con50\"], result[result[\"method\"] == \"hinge\"][\"acc\"], color = \"red\", s = 10.0)\n",
    "plt.scatter(result[result[\"method\"] == \"slide\"][\"con50\"], result[result[\"method\"] == \"slide\"][\"acc\"], color = \"blue\", s = 10.0)\n",
    "plt.show()"
   ]
  },
  {
   "cell_type": "code",
   "execution_count": null,
   "metadata": {},
   "outputs": [],
   "source": []
  },
  {
   "cell_type": "code",
   "execution_count": null,
   "metadata": {},
   "outputs": [],
   "source": []
  },
  {
   "cell_type": "code",
   "execution_count": null,
   "metadata": {},
   "outputs": [],
   "source": []
  }
 ],
 "metadata": {
  "interpreter": {
   "hash": "fd69f43f58546b570e94fd7eba7b65e6bcc7a5bbc4eab0408017d18902915d69"
  },
  "kernelspec": {
   "display_name": "Python 3.7.5 64-bit",
   "language": "python",
   "name": "python3"
  },
  "language_info": {
   "codemirror_mode": {
    "name": "ipython",
    "version": 3
   },
   "file_extension": ".py",
   "mimetype": "text/x-python",
   "name": "python",
   "nbconvert_exporter": "python",
   "pygments_lexer": "ipython3",
   "version": "3.7.5"
  },
  "orig_nbformat": 4
 },
 "nbformat": 4,
 "nbformat_minor": 2
}
